{
 "cells": [
  {
   "cell_type": "markdown",
   "metadata": {},
   "source": [
    "# Dataframe basics\n",
    "\n",
    "Dataframes are the best choice to work with datasets up to 100MB. We can easily manipulate with such data, display as a table or visualize it. It makes it easier to understand our data and eliminate any features or specific cases from our dataset to increase accuracy, specificity, sensiticity and other metrics."
   ]
  },
  {
   "cell_type": "code",
   "execution_count": 1,
   "metadata": {},
   "outputs": [
    {
     "name": "stdout",
     "output_type": "stream",
     "text": [
      "10 loops, best of 3: 1.29 ms per loop\n"
     ]
    }
   ],
   "source": [
    "from sklearn import datasets\n",
    "\n",
    "datasets.load_iris()"
   ]
  },
  {
   "cell_type": "markdown",
   "metadata": {},
   "source": [
    "Let's load a classic example of Iris dataset and display the first five rows."
   ]
  },
  {
   "cell_type": "code",
   "execution_count": 17,
   "metadata": {},
   "outputs": [
    {
     "data": {
      "text/html": [
       "<div>\n",
       "<style scoped>\n",
       "    .dataframe tbody tr th:only-of-type {\n",
       "        vertical-align: middle;\n",
       "    }\n",
       "\n",
       "    .dataframe tbody tr th {\n",
       "        vertical-align: top;\n",
       "    }\n",
       "\n",
       "    .dataframe thead th {\n",
       "        text-align: right;\n",
       "    }\n",
       "</style>\n",
       "<table border=\"1\" class=\"dataframe\">\n",
       "  <thead>\n",
       "    <tr style=\"text-align: right;\">\n",
       "      <th></th>\n",
       "      <th>sepal length (cm)</th>\n",
       "      <th>sepal width (cm)</th>\n",
       "      <th>petal length (cm)</th>\n",
       "      <th>petal width (cm)</th>\n",
       "    </tr>\n",
       "  </thead>\n",
       "  <tbody>\n",
       "    <tr>\n",
       "      <th>0</th>\n",
       "      <td>5.1</td>\n",
       "      <td>3.5</td>\n",
       "      <td>1.4</td>\n",
       "      <td>0.2</td>\n",
       "    </tr>\n",
       "    <tr>\n",
       "      <th>1</th>\n",
       "      <td>4.9</td>\n",
       "      <td>3.0</td>\n",
       "      <td>1.4</td>\n",
       "      <td>0.2</td>\n",
       "    </tr>\n",
       "    <tr>\n",
       "      <th>2</th>\n",
       "      <td>4.7</td>\n",
       "      <td>3.2</td>\n",
       "      <td>1.3</td>\n",
       "      <td>0.2</td>\n",
       "    </tr>\n",
       "    <tr>\n",
       "      <th>3</th>\n",
       "      <td>4.6</td>\n",
       "      <td>3.1</td>\n",
       "      <td>1.5</td>\n",
       "      <td>0.2</td>\n",
       "    </tr>\n",
       "    <tr>\n",
       "      <th>4</th>\n",
       "      <td>5.0</td>\n",
       "      <td>3.6</td>\n",
       "      <td>1.4</td>\n",
       "      <td>0.2</td>\n",
       "    </tr>\n",
       "  </tbody>\n",
       "</table>\n",
       "</div>"
      ],
      "text/plain": [
       "   sepal length (cm)  sepal width (cm)  petal length (cm)  petal width (cm)\n",
       "0                5.1               3.5                1.4               0.2\n",
       "1                4.9               3.0                1.4               0.2\n",
       "2                4.7               3.2                1.3               0.2\n",
       "3                4.6               3.1                1.5               0.2\n",
       "4                5.0               3.6                1.4               0.2"
      ]
     },
     "execution_count": 17,
     "metadata": {},
     "output_type": "execute_result"
    }
   ],
   "source": [
    "import pandas as pd\n",
    "\n",
    "iris = datasets.load_iris()\n",
    "\n",
    "df = pd.DataFrame(iris.data, columns=iris.feature_names)\n",
    "\n",
    "df.head()"
   ]
  },
  {
   "cell_type": "markdown",
   "metadata": {},
   "source": [
    "The biggest advantage of Pandas is that even working with big datasets, it's still fast."
   ]
  },
  {
   "cell_type": "code",
   "execution_count": 4,
   "metadata": {},
   "outputs": [
    {
     "name": "stdout",
     "output_type": "stream",
     "text": [
      "The slowest run took 5.01 times longer than the fastest. This could mean that an intermediate result is being cached.\n",
      "10 loops, best of 3: 509 µs per loop\n"
     ]
    }
   ],
   "source": [
    "%timeit -n10 multiplied = df.multiply(df)\n",
    "multiplied = df.multiply(df)"
   ]
  },
  {
   "cell_type": "code",
   "execution_count": 5,
   "metadata": {},
   "outputs": [
    {
     "data": {
      "text/html": [
       "<div>\n",
       "<style scoped>\n",
       "    .dataframe tbody tr th:only-of-type {\n",
       "        vertical-align: middle;\n",
       "    }\n",
       "\n",
       "    .dataframe tbody tr th {\n",
       "        vertical-align: top;\n",
       "    }\n",
       "\n",
       "    .dataframe thead th {\n",
       "        text-align: right;\n",
       "    }\n",
       "</style>\n",
       "<table border=\"1\" class=\"dataframe\">\n",
       "  <thead>\n",
       "    <tr style=\"text-align: right;\">\n",
       "      <th></th>\n",
       "      <th>sepal length (cm)</th>\n",
       "      <th>sepal width (cm)</th>\n",
       "      <th>petal length (cm)</th>\n",
       "      <th>petal width (cm)</th>\n",
       "    </tr>\n",
       "  </thead>\n",
       "  <tbody>\n",
       "    <tr>\n",
       "      <th>0</th>\n",
       "      <td>26.01</td>\n",
       "      <td>12.25</td>\n",
       "      <td>1.96</td>\n",
       "      <td>0.04</td>\n",
       "    </tr>\n",
       "    <tr>\n",
       "      <th>1</th>\n",
       "      <td>24.01</td>\n",
       "      <td>9.00</td>\n",
       "      <td>1.96</td>\n",
       "      <td>0.04</td>\n",
       "    </tr>\n",
       "    <tr>\n",
       "      <th>2</th>\n",
       "      <td>22.09</td>\n",
       "      <td>10.24</td>\n",
       "      <td>1.69</td>\n",
       "      <td>0.04</td>\n",
       "    </tr>\n",
       "    <tr>\n",
       "      <th>3</th>\n",
       "      <td>21.16</td>\n",
       "      <td>9.61</td>\n",
       "      <td>2.25</td>\n",
       "      <td>0.04</td>\n",
       "    </tr>\n",
       "    <tr>\n",
       "      <th>4</th>\n",
       "      <td>25.00</td>\n",
       "      <td>12.96</td>\n",
       "      <td>1.96</td>\n",
       "      <td>0.04</td>\n",
       "    </tr>\n",
       "  </tbody>\n",
       "</table>\n",
       "</div>"
      ],
      "text/plain": [
       "   sepal length (cm)  sepal width (cm)  petal length (cm)  petal width (cm)\n",
       "0              26.01             12.25               1.96              0.04\n",
       "1              24.01              9.00               1.96              0.04\n",
       "2              22.09             10.24               1.69              0.04\n",
       "3              21.16              9.61               2.25              0.04\n",
       "4              25.00             12.96               1.96              0.04"
      ]
     },
     "execution_count": 5,
     "metadata": {},
     "output_type": "execute_result"
    }
   ],
   "source": [
    "multiplied.head()"
   ]
  },
  {
   "cell_type": "markdown",
   "metadata": {},
   "source": [
    "We can easily visualize it by "
   ]
  },
  {
   "cell_type": "code",
   "execution_count": 6,
   "metadata": {},
   "outputs": [
    {
     "data": {
      "text/plain": [
       "<matplotlib.axes._subplots.AxesSubplot at 0x7fa9b7695240>"
      ]
     },
     "execution_count": 6,
     "metadata": {},
     "output_type": "execute_result"
    },
    {
     "data": {
      "image/png": "[encoded data removed]",
      "text/plain": [
       "<Figure size 432x288 with 1 Axes>"
      ]
     },
     "metadata": {},
     "output_type": "display_data"
    }
   ],
   "source": [
    "%matplotlib inline\n",
    "df.plot.scatter(x='sepal length (cm)',y='sepal width (cm)',c='DarkBlue')"
   ]
  },
  {
   "cell_type": "code",
   "execution_count": 9,
   "metadata": {},
   "outputs": [],
   "source": [
    "df.columns = ['sepal_length','sepal_width','petal_length','petal_width']"
   ]
  },
  {
   "cell_type": "code",
   "execution_count": 15,
   "metadata": {},
   "outputs": [],
   "source": [
    "df_filtered = df.query('sepal_length>4.8')"
   ]
  },
  {
   "cell_type": "code",
   "execution_count": 16,
   "metadata": {},
   "outputs": [
    {
     "data": {
      "text/html": [
       "<div>\n",
       "<style scoped>\n",
       "    .dataframe tbody tr th:only-of-type {\n",
       "        vertical-align: middle;\n",
       "    }\n",
       "\n",
       "    .dataframe tbody tr th {\n",
       "        vertical-align: top;\n",
       "    }\n",
       "\n",
       "    .dataframe thead th {\n",
       "        text-align: right;\n",
       "    }\n",
       "</style>\n",
       "<table border=\"1\" class=\"dataframe\">\n",
       "  <thead>\n",
       "    <tr style=\"text-align: right;\">\n",
       "      <th></th>\n",
       "      <th>sepal_length</th>\n",
       "      <th>sepal_width</th>\n",
       "      <th>petal_length</th>\n",
       "      <th>petal_width</th>\n",
       "    </tr>\n",
       "  </thead>\n",
       "  <tbody>\n",
       "    <tr>\n",
       "      <th>0</th>\n",
       "      <td>5.1</td>\n",
       "      <td>3.5</td>\n",
       "      <td>1.4</td>\n",
       "      <td>0.2</td>\n",
       "    </tr>\n",
       "    <tr>\n",
       "      <th>1</th>\n",
       "      <td>4.9</td>\n",
       "      <td>3.0</td>\n",
       "      <td>1.4</td>\n",
       "      <td>0.2</td>\n",
       "    </tr>\n",
       "    <tr>\n",
       "      <th>4</th>\n",
       "      <td>5.0</td>\n",
       "      <td>3.6</td>\n",
       "      <td>1.4</td>\n",
       "      <td>0.2</td>\n",
       "    </tr>\n",
       "    <tr>\n",
       "      <th>5</th>\n",
       "      <td>5.4</td>\n",
       "      <td>3.9</td>\n",
       "      <td>1.7</td>\n",
       "      <td>0.4</td>\n",
       "    </tr>\n",
       "    <tr>\n",
       "      <th>7</th>\n",
       "      <td>5.0</td>\n",
       "      <td>3.4</td>\n",
       "      <td>1.5</td>\n",
       "      <td>0.2</td>\n",
       "    </tr>\n",
       "  </tbody>\n",
       "</table>\n",
       "</div>"
      ],
      "text/plain": [
       "   sepal_length  sepal_width  petal_length  petal_width\n",
       "0           5.1          3.5           1.4          0.2\n",
       "1           4.9          3.0           1.4          0.2\n",
       "4           5.0          3.6           1.4          0.2\n",
       "5           5.4          3.9           1.7          0.4\n",
       "7           5.0          3.4           1.5          0.2"
      ]
     },
     "execution_count": 16,
     "metadata": {},
     "output_type": "execute_result"
    }
   ],
   "source": [
    "df_filtered.head()"
   ]
  },
  {
   "cell_type": "code",
   "execution_count": 36,
   "metadata": {},
   "outputs": [
    {
     "data": {
      "text/plain": [
       "{(4.9, 2.4): Int64Index([57], dtype='int64'),\n",
       " (4.9, 2.5): Int64Index([106], dtype='int64'),\n",
       " (4.9, 3.0): Int64Index([1], dtype='int64'),\n",
       " (4.9, 3.1): Int64Index([9, 34, 37], dtype='int64'),\n",
       " (5.0, 2.0): Int64Index([60], dtype='int64'),\n",
       " (5.0, 2.3): Int64Index([93], dtype='int64'),\n",
       " (5.0, 3.0): Int64Index([25], dtype='int64'),\n",
       " (5.0, 3.2): Int64Index([35], dtype='int64'),\n",
       " (5.0, 3.3): Int64Index([49], dtype='int64'),\n",
       " (5.0, 3.4): Int64Index([7, 26], dtype='int64'),\n",
       " (5.0, 3.5): Int64Index([40, 43], dtype='int64'),\n",
       " (5.0, 3.6): Int64Index([4], dtype='int64'),\n",
       " (5.1, 2.5): Int64Index([98], dtype='int64'),\n",
       " (5.1, 3.3): Int64Index([23], dtype='int64'),\n",
       " (5.1, 3.4): Int64Index([39], dtype='int64'),\n",
       " (5.1, 3.5): Int64Index([0, 17], dtype='int64'),\n",
       " (5.1, 3.7): Int64Index([21], dtype='int64'),\n",
       " (5.1, 3.8): Int64Index([19, 44, 46], dtype='int64'),\n",
       " (5.2, 2.7): Int64Index([59], dtype='int64'),\n",
       " (5.2, 3.4): Int64Index([28], dtype='int64'),\n",
       " (5.2, 3.5): Int64Index([27], dtype='int64'),\n",
       " (5.2, 4.1): Int64Index([32], dtype='int64'),\n",
       " (5.3, 3.7): Int64Index([48], dtype='int64'),\n",
       " (5.4, 3.0): Int64Index([84], dtype='int64'),\n",
       " (5.4, 3.4): Int64Index([20, 31], dtype='int64'),\n",
       " (5.4, 3.7): Int64Index([10], dtype='int64'),\n",
       " (5.4, 3.9): Int64Index([5, 16], dtype='int64'),\n",
       " (5.5, 2.3): Int64Index([53], dtype='int64'),\n",
       " (5.5, 2.4): Int64Index([80, 81], dtype='int64'),\n",
       " (5.5, 2.5): Int64Index([89], dtype='int64'),\n",
       " (5.5, 2.6): Int64Index([90], dtype='int64'),\n",
       " (5.5, 3.5): Int64Index([36], dtype='int64'),\n",
       " (5.5, 4.2): Int64Index([33], dtype='int64'),\n",
       " (5.6, 2.5): Int64Index([69], dtype='int64'),\n",
       " (5.6, 2.7): Int64Index([94], dtype='int64'),\n",
       " (5.6, 2.8): Int64Index([121], dtype='int64'),\n",
       " (5.6, 2.9): Int64Index([64], dtype='int64'),\n",
       " (5.6, 3.0): Int64Index([66, 88], dtype='int64'),\n",
       " (5.7, 2.5): Int64Index([113], dtype='int64'),\n",
       " (5.7, 2.6): Int64Index([79], dtype='int64'),\n",
       " (5.7, 2.8): Int64Index([55, 99], dtype='int64'),\n",
       " (5.7, 2.9): Int64Index([96], dtype='int64'),\n",
       " (5.7, 3.0): Int64Index([95], dtype='int64'),\n",
       " (5.7, 3.8): Int64Index([18], dtype='int64'),\n",
       " (5.7, 4.4): Int64Index([15], dtype='int64'),\n",
       " (5.8, 2.6): Int64Index([92], dtype='int64'),\n",
       " (5.8, 2.7): Int64Index([67, 82, 101, 142], dtype='int64'),\n",
       " (5.8, 2.8): Int64Index([114], dtype='int64'),\n",
       " (5.8, 4.0): Int64Index([14], dtype='int64'),\n",
       " (5.9, 3.0): Int64Index([61, 149], dtype='int64'),\n",
       " (5.9, 3.2): Int64Index([70], dtype='int64'),\n",
       " (6.0, 2.2): Int64Index([62, 119], dtype='int64'),\n",
       " (6.0, 2.7): Int64Index([83], dtype='int64'),\n",
       " (6.0, 2.9): Int64Index([78], dtype='int64'),\n",
       " (6.0, 3.0): Int64Index([138], dtype='int64'),\n",
       " (6.0, 3.4): Int64Index([85], dtype='int64'),\n",
       " (6.1, 2.6): Int64Index([134], dtype='int64'),\n",
       " (6.1, 2.8): Int64Index([71, 73], dtype='int64'),\n",
       " (6.1, 2.9): Int64Index([63], dtype='int64'),\n",
       " (6.1, 3.0): Int64Index([91, 127], dtype='int64'),\n",
       " (6.2, 2.2): Int64Index([68], dtype='int64'),\n",
       " (6.2, 2.8): Int64Index([126], dtype='int64'),\n",
       " (6.2, 2.9): Int64Index([97], dtype='int64'),\n",
       " (6.2, 3.4): Int64Index([148], dtype='int64'),\n",
       " (6.3, 2.3): Int64Index([87], dtype='int64'),\n",
       " (6.3, 2.5): Int64Index([72, 146], dtype='int64'),\n",
       " (6.3, 2.7): Int64Index([123], dtype='int64'),\n",
       " (6.3, 2.8): Int64Index([133], dtype='int64'),\n",
       " (6.3, 2.9): Int64Index([103], dtype='int64'),\n",
       " (6.3, 3.3): Int64Index([56, 100], dtype='int64'),\n",
       " (6.3, 3.4): Int64Index([136], dtype='int64'),\n",
       " (6.4, 2.7): Int64Index([111], dtype='int64'),\n",
       " (6.4, 2.8): Int64Index([128, 132], dtype='int64'),\n",
       " (6.4, 2.9): Int64Index([74], dtype='int64'),\n",
       " (6.4, 3.1): Int64Index([137], dtype='int64'),\n",
       " (6.4, 3.2): Int64Index([51, 115], dtype='int64'),\n",
       " (6.5, 2.8): Int64Index([54], dtype='int64'),\n",
       " (6.5, 3.0): Int64Index([104, 116, 147], dtype='int64'),\n",
       " (6.5, 3.2): Int64Index([110], dtype='int64'),\n",
       " (6.6, 2.9): Int64Index([58], dtype='int64'),\n",
       " (6.6, 3.0): Int64Index([75], dtype='int64'),\n",
       " (6.7, 2.5): Int64Index([108], dtype='int64'),\n",
       " (6.7, 3.0): Int64Index([77, 145], dtype='int64'),\n",
       " (6.7, 3.1): Int64Index([65, 86, 140], dtype='int64'),\n",
       " (6.7, 3.3): Int64Index([124, 144], dtype='int64'),\n",
       " (6.8, 2.8): Int64Index([76], dtype='int64'),\n",
       " (6.8, 3.0): Int64Index([112], dtype='int64'),\n",
       " (6.8, 3.2): Int64Index([143], dtype='int64'),\n",
       " (6.9, 3.1): Int64Index([52, 139, 141], dtype='int64'),\n",
       " (6.9, 3.2): Int64Index([120], dtype='int64'),\n",
       " (7.0, 3.2): Int64Index([50], dtype='int64'),\n",
       " (7.1, 3.0): Int64Index([102], dtype='int64'),\n",
       " (7.2, 3.0): Int64Index([129], dtype='int64'),\n",
       " (7.2, 3.2): Int64Index([125], dtype='int64'),\n",
       " (7.2, 3.6): Int64Index([109], dtype='int64'),\n",
       " (7.3, 2.9): Int64Index([107], dtype='int64'),\n",
       " (7.4, 2.8): Int64Index([130], dtype='int64'),\n",
       " (7.6, 3.0): Int64Index([105], dtype='int64'),\n",
       " (7.7, 2.6): Int64Index([118], dtype='int64'),\n",
       " (7.7, 2.8): Int64Index([122], dtype='int64'),\n",
       " (7.7, 3.0): Int64Index([135], dtype='int64'),\n",
       " (7.7, 3.8): Int64Index([117], dtype='int64'),\n",
       " (7.9, 3.8): Int64Index([131], dtype='int64')}"
      ]
     },
     "execution_count": 36,
     "metadata": {},
     "output_type": "execute_result"
    }
   ],
   "source": [
    "df_grouped = df_filtered.groupby(['sepal_length','sepal_width']).groups\n",
    "df_grouped"
   ]
  }
 ],
 "metadata": {
  "kernelspec": {
   "display_name": "Python 3",
   "language": "python",
   "name": "python3"
  },
  "language_info": {
   "codemirror_mode": {
    "name": "ipython",
    "version": 3
   },
   "file_extension": ".py",
   "mimetype": "text/x-python",
   "name": "python",
   "nbconvert_exporter": "python",
   "pygments_lexer": "ipython3",
   "version": "3.6.6"
  }
 },
 "nbformat": 4,
 "nbformat_minor": 2
}
